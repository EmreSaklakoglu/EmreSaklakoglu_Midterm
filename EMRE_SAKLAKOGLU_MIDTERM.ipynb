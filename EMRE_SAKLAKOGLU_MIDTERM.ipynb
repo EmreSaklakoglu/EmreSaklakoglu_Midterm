{
  "nbformat": 4,
  "nbformat_minor": 0,
  "metadata": {
    "colab": {
      "name": "EMRE_SAKLAKOGLU_MIDTERM.ipynb",
      "version": "0.3.2",
      "provenance": [],
      "collapsed_sections": []
    },
    "kernelspec": {
      "name": "python3",
      "display_name": "Python 3"
    }
  },
  "cells": [
    {
      "metadata": {
        "id": "V4hKd_SUktW0",
        "colab_type": "text"
      },
      "cell_type": "markdown",
      "source": [
        "*Hello*, please change the file name as your name_surname_MIDTERM.ipynb and upload to the folder 'DROP MIDTERMS HERE' on \n",
        "Drive.\n",
        "ex: atay_ilgun_MIDTERM.ipynb\n",
        "\n",
        "Also, create all TD related tasks on one TD file and upload it.\n",
        "ex: atay_ilgun_MIDTERM.tox\n",
        "\n",
        "\n",
        "\n"
      ]
    },
    {
      "metadata": {
        "id": "x2ccMw7RySjg",
        "colab_type": "code",
        "colab": {}
      },
      "cell_type": "code",
      "source": [
        ""
      ],
      "execution_count": 0,
      "outputs": []
    },
    {
      "metadata": {
        "id": "M5r1biQAqdFr",
        "colab_type": "text"
      },
      "cell_type": "markdown",
      "source": [
        "Describe what an algorithm is."
      ]
    },
    {
      "metadata": {
        "id": "gBX2rsuOqia5",
        "colab_type": "code",
        "colab": {}
      },
      "cell_type": "code",
      "source": [
        "# An algorithm is a methodical set of steps that can be used to make calculations, resolve problems and reach decisions.\n"
      ],
      "execution_count": 0,
      "outputs": []
    },
    {
      "metadata": {
        "id": "7jDbMQWRlL9g",
        "colab_type": "text"
      },
      "cell_type": "markdown",
      "source": [
        "Explain in what ways algorithmic design is different than the brute-force regular design approach. [50 words]\n",
        "\n",
        "\n",
        "\n",
        "\n"
      ]
    },
    {
      "metadata": {
        "id": "y3-hIoOvmPQ0",
        "colab_type": "code",
        "colab": {}
      },
      "cell_type": "code",
      "source": [
        "#We can tell that algorithmic design is the future because different than the regular design approach with the algorithmic design we are creating the machines which creating the design.\n",
        "#What is the meaning of this? The meaning is until today people tried to create designs but teaching the machines to do that presenting us to unlimited resources.\n",
        "#Now every people can design with the help of machines and algorithms."
      ],
      "execution_count": 0,
      "outputs": []
    },
    {
      "metadata": {
        "id": "kejX_KyEl9i8",
        "colab_type": "text"
      },
      "cell_type": "markdown",
      "source": [
        "In 100 words meditate on how an new approach on design such as one that is algorithmic could affect your work practice."
      ]
    },
    {
      "metadata": {
        "id": "b5KuqPQNklCG",
        "colab_type": "code",
        "colab": {}
      },
      "cell_type": "code",
      "source": [
        "#Algorithmic design will affect all the designers because programmers programming machines to design works these days.\n",
        "#If we create machines which can design anything, we can get unlimited output.\n",
        "#People are limited creatures and they are not able to do everything that machines can do.\n",
        "#With the machine learning people started to teach machines how to create, how to design. \n",
        "#So, designers started to get afraid of algorithmic design because in the future machines can erase designers.\n",
        "#For me designers have to improve themselves and they need to understand future started to being build with algorithms."
      ],
      "execution_count": 0,
      "outputs": []
    },
    {
      "metadata": {
        "id": "9Do7b1iMnjhU",
        "colab_type": "text"
      },
      "cell_type": "markdown",
      "source": [
        "Create a python dictionary for your name surname and year of birth."
      ]
    },
    {
      "metadata": {
        "id": "tBrElkkPnp1T",
        "colab_type": "code",
        "colab": {}
      },
      "cell_type": "code",
      "source": [
        "a_dict = {'name':'Emre', 'surname':'Saklakoglu','yearofbirth':'1996'}\n",
        "#done"
      ],
      "execution_count": 0,
      "outputs": []
    },
    {
      "metadata": {
        "id": "jhlaD8HWnqa7",
        "colab_type": "text"
      },
      "cell_type": "markdown",
      "source": [
        "Write a conditional so If the first letter of your name is 'a' print 'my initial is a!' "
      ]
    },
    {
      "metadata": {
        "id": "TtVFoH2mn9rn",
        "colab_type": "code",
        "colab": {}
      },
      "cell_type": "code",
      "source": [
        "name='emre'"
      ],
      "execution_count": 0,
      "outputs": []
    },
    {
      "metadata": {
        "id": "rTy3G94FPIQ2",
        "colab_type": "code",
        "outputId": "1e405da7-de46-4f90-8f26-46129358cd33",
        "colab": {
          "base_uri": "https://localhost:8080/",
          "height": 34
        }
      },
      "cell_type": "code",
      "source": [
        "if name[0] == \"e\":\n",
        "  print(\"e\")\n",
        "  #done"
      ],
      "execution_count": 0,
      "outputs": [
        {
          "output_type": "stream",
          "text": [
            "e\n"
          ],
          "name": "stdout"
        }
      ]
    },
    {
      "metadata": {
        "id": "Z7sPJrZzn97x",
        "colab_type": "text"
      },
      "cell_type": "markdown",
      "source": [
        "Write a conditional so If your surnames letter count is divisable by 3 print 'it is divisible' if not 'not divisible'.\n",
        "\n"
      ]
    },
    {
      "metadata": {
        "id": "5hfzwFKUn-Qs",
        "colab_type": "code",
        "outputId": "757ed09d-f874-4ff2-b770-895537677bc8",
        "colab": {
          "base_uri": "https://localhost:8080/",
          "height": 34
        }
      },
      "cell_type": "code",
      "source": [
        "a_dict['surname']"
      ],
      "execution_count": 0,
      "outputs": [
        {
          "output_type": "execute_result",
          "data": {
            "text/plain": [
              "'Saklakoglu'"
            ]
          },
          "metadata": {
            "tags": []
          },
          "execution_count": 28
        }
      ]
    },
    {
      "metadata": {
        "id": "-RcryO7_TfLD",
        "colab_type": "code",
        "colab": {}
      },
      "cell_type": "code",
      "source": [
        "surname = 'Saklakoglu'"
      ],
      "execution_count": 0,
      "outputs": []
    },
    {
      "metadata": {
        "id": "Dtf1iZAcUddg",
        "colab_type": "code",
        "outputId": "6bf7116e-6275-491f-c3a0-96a511905db4",
        "colab": {
          "base_uri": "https://localhost:8080/",
          "height": 34
        }
      },
      "cell_type": "code",
      "source": [
        "if len(surname) %3:\n",
        "  print('it is divisible')"
      ],
      "execution_count": 0,
      "outputs": [
        {
          "output_type": "stream",
          "text": [
            "it is divisible\n"
          ],
          "name": "stdout"
        }
      ]
    },
    {
      "metadata": {
        "id": "btGgWM6coy1E",
        "colab_type": "text"
      },
      "cell_type": "markdown",
      "source": [
        "Change your year of birth to 2678."
      ]
    },
    {
      "metadata": {
        "id": "TyONCeiGu_74",
        "colab_type": "code",
        "colab": {}
      },
      "cell_type": "code",
      "source": [
        "a_dict = {'name':'Emre', 'surname':'Saklakoglu','yearofbirth':'1996'}"
      ],
      "execution_count": 0,
      "outputs": []
    },
    {
      "metadata": {
        "id": "8r3CJ8udQac2",
        "colab_type": "code",
        "outputId": "77a890fa-144f-48d4-f92f-36fe3f753614",
        "colab": {
          "base_uri": "https://localhost:8080/",
          "height": 34
        }
      },
      "cell_type": "code",
      "source": [
        "a_dict['yearofbirth']"
      ],
      "execution_count": 0,
      "outputs": [
        {
          "output_type": "execute_result",
          "data": {
            "text/plain": [
              "'1996'"
            ]
          },
          "metadata": {
            "tags": []
          },
          "execution_count": 13
        }
      ]
    },
    {
      "metadata": {
        "id": "Hm8LreKhQpZ2",
        "colab_type": "code",
        "colab": {}
      },
      "cell_type": "code",
      "source": [
        "a_dict['yearofbirth']=2678"
      ],
      "execution_count": 0,
      "outputs": []
    },
    {
      "metadata": {
        "id": "OZFg5shEQuWR",
        "colab_type": "code",
        "outputId": "06825934-dfc5-478d-9835-e4924f009dd3",
        "colab": {
          "base_uri": "https://localhost:8080/",
          "height": 34
        }
      },
      "cell_type": "code",
      "source": [
        "a_dict['yearofbirth']\n",
        "#Done"
      ],
      "execution_count": 0,
      "outputs": [
        {
          "output_type": "execute_result",
          "data": {
            "text/plain": [
              "2678"
            ]
          },
          "metadata": {
            "tags": []
          },
          "execution_count": 15
        }
      ]
    },
    {
      "metadata": {
        "id": "cu1gFXL-yhkC",
        "colab_type": "text"
      },
      "cell_type": "markdown",
      "source": [
        "TOUCHDESIGNER TIME.\n"
      ]
    },
    {
      "metadata": {
        "id": "UmVf0HGvpFkr",
        "colab_type": "text"
      },
      "cell_type": "markdown",
      "source": [
        "Create a red box [in geo comp] and make it emit particles with a birth rate of 2500.\n",
        "\n"
      ]
    },
    {
      "metadata": {
        "id": "UmORWiWuo2tz",
        "colab_type": "code",
        "colab": {}
      },
      "cell_type": "code",
      "source": [
        "#Done"
      ],
      "execution_count": 0,
      "outputs": []
    },
    {
      "metadata": {
        "id": "7Myc6orhunsr",
        "colab_type": "text"
      },
      "cell_type": "markdown",
      "source": [
        "Import a moving image and a sound file in TD.\n",
        "Add at least two filters to the image file.\n",
        "Make 2 parameters of these filters responsive to the audio."
      ]
    },
    {
      "metadata": {
        "id": "RAYDFqMWpM-y",
        "colab_type": "code",
        "colab": {}
      },
      "cell_type": "code",
      "source": [
        "#Done"
      ],
      "execution_count": 0,
      "outputs": []
    },
    {
      "metadata": {
        "id": "yOskQD8bX15j",
        "colab_type": "text"
      },
      "cell_type": "markdown",
      "source": [
        "Create a torus and modify its x-size with an LFO with the frequency of 0.75."
      ]
    },
    {
      "metadata": {
        "id": "hyYS6mGCYExJ",
        "colab_type": "code",
        "colab": {}
      },
      "cell_type": "code",
      "source": [
        "#Done"
      ],
      "execution_count": 0,
      "outputs": []
    },
    {
      "metadata": {
        "id": "xFrXCMnmYF4M",
        "colab_type": "text"
      },
      "cell_type": "markdown",
      "source": [
        "Create a sphere and create an amorph moving shape using 'noise'."
      ]
    },
    {
      "metadata": {
        "id": "M1Fl4RbIZJZw",
        "colab_type": "code",
        "colab": {}
      },
      "cell_type": "code",
      "source": [
        "#Done"
      ],
      "execution_count": 0,
      "outputs": []
    },
    {
      "metadata": {
        "id": "EFOw4nkLZIQo",
        "colab_type": "text"
      },
      "cell_type": "markdown",
      "source": [
        "Create a box and apply an image texture on it."
      ]
    },
    {
      "metadata": {
        "id": "EkZFhxneKwIq",
        "colab_type": "code",
        "colab": {}
      },
      "cell_type": "code",
      "source": [
        "#Done"
      ],
      "execution_count": 0,
      "outputs": []
    },
    {
      "metadata": {
        "id": "yvNdAMsuZktW",
        "colab_type": "text"
      },
      "cell_type": "markdown",
      "source": [
        ""
      ]
    }
  ]
}